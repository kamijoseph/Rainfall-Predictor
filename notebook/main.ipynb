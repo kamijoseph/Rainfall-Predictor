{
 "cells": [
  {
   "cell_type": "markdown",
   "id": "47fc08a8",
   "metadata": {},
   "source": [
    "# Rainfall Prediction Model Using Random Forest Algorithm"
   ]
  },
  {
   "cell_type": "code",
   "execution_count": 83,
   "id": "ce7986ae",
   "metadata": {},
   "outputs": [],
   "source": [
    "import pandas as pd\n",
    "import numpy as np\n",
    "import matplotlib.pyplot as plt\n",
    "import seaborn as sns\n",
    "from sklearn.utils import resample\n",
    "from sklearn.metrics import classification_report, confusion_matrix, accuracy_score\n",
    "from sklearn.model_selection import GridSearchCV, train_test_split, cross_val_score\n",
    "from sklearn.ensemble import RandomForestClassifier\n",
    "import pickle"
   ]
  },
  {
   "cell_type": "code",
   "execution_count": 84,
   "id": "8c971a67",
   "metadata": {},
   "outputs": [
    {
     "data": {
      "text/html": [
       "<div>\n",
       "<style scoped>\n",
       "    .dataframe tbody tr th:only-of-type {\n",
       "        vertical-align: middle;\n",
       "    }\n",
       "\n",
       "    .dataframe tbody tr th {\n",
       "        vertical-align: top;\n",
       "    }\n",
       "\n",
       "    .dataframe thead th {\n",
       "        text-align: right;\n",
       "    }\n",
       "</style>\n",
       "<table border=\"1\" class=\"dataframe\">\n",
       "  <thead>\n",
       "    <tr style=\"text-align: right;\">\n",
       "      <th></th>\n",
       "      <th>day</th>\n",
       "      <th>pressure</th>\n",
       "      <th>maxtemp</th>\n",
       "      <th>temparature</th>\n",
       "      <th>mintemp</th>\n",
       "      <th>dewpoint</th>\n",
       "      <th>humidity</th>\n",
       "      <th>cloud</th>\n",
       "      <th>rainfall</th>\n",
       "      <th>sunshine</th>\n",
       "      <th>winddirection</th>\n",
       "      <th>windspeed</th>\n",
       "    </tr>\n",
       "  </thead>\n",
       "  <tbody>\n",
       "    <tr>\n",
       "      <th>0</th>\n",
       "      <td>1</td>\n",
       "      <td>1025.9</td>\n",
       "      <td>19.9</td>\n",
       "      <td>18.3</td>\n",
       "      <td>16.8</td>\n",
       "      <td>13.1</td>\n",
       "      <td>72</td>\n",
       "      <td>49</td>\n",
       "      <td>yes</td>\n",
       "      <td>9.3</td>\n",
       "      <td>80.0</td>\n",
       "      <td>26.3</td>\n",
       "    </tr>\n",
       "    <tr>\n",
       "      <th>1</th>\n",
       "      <td>2</td>\n",
       "      <td>1022.0</td>\n",
       "      <td>21.7</td>\n",
       "      <td>18.9</td>\n",
       "      <td>17.2</td>\n",
       "      <td>15.6</td>\n",
       "      <td>81</td>\n",
       "      <td>83</td>\n",
       "      <td>yes</td>\n",
       "      <td>0.6</td>\n",
       "      <td>50.0</td>\n",
       "      <td>15.3</td>\n",
       "    </tr>\n",
       "    <tr>\n",
       "      <th>2</th>\n",
       "      <td>3</td>\n",
       "      <td>1019.7</td>\n",
       "      <td>20.3</td>\n",
       "      <td>19.3</td>\n",
       "      <td>18.0</td>\n",
       "      <td>18.4</td>\n",
       "      <td>95</td>\n",
       "      <td>91</td>\n",
       "      <td>yes</td>\n",
       "      <td>0.0</td>\n",
       "      <td>40.0</td>\n",
       "      <td>14.2</td>\n",
       "    </tr>\n",
       "    <tr>\n",
       "      <th>3</th>\n",
       "      <td>4</td>\n",
       "      <td>1018.9</td>\n",
       "      <td>22.3</td>\n",
       "      <td>20.6</td>\n",
       "      <td>19.1</td>\n",
       "      <td>18.8</td>\n",
       "      <td>90</td>\n",
       "      <td>88</td>\n",
       "      <td>yes</td>\n",
       "      <td>1.0</td>\n",
       "      <td>50.0</td>\n",
       "      <td>16.9</td>\n",
       "    </tr>\n",
       "    <tr>\n",
       "      <th>4</th>\n",
       "      <td>5</td>\n",
       "      <td>1015.9</td>\n",
       "      <td>21.3</td>\n",
       "      <td>20.7</td>\n",
       "      <td>20.2</td>\n",
       "      <td>19.9</td>\n",
       "      <td>95</td>\n",
       "      <td>81</td>\n",
       "      <td>yes</td>\n",
       "      <td>0.0</td>\n",
       "      <td>40.0</td>\n",
       "      <td>13.7</td>\n",
       "    </tr>\n",
       "    <tr>\n",
       "      <th>5</th>\n",
       "      <td>6</td>\n",
       "      <td>1018.8</td>\n",
       "      <td>24.3</td>\n",
       "      <td>20.9</td>\n",
       "      <td>19.2</td>\n",
       "      <td>18.0</td>\n",
       "      <td>84</td>\n",
       "      <td>51</td>\n",
       "      <td>yes</td>\n",
       "      <td>7.7</td>\n",
       "      <td>20.0</td>\n",
       "      <td>14.5</td>\n",
       "    </tr>\n",
       "    <tr>\n",
       "      <th>6</th>\n",
       "      <td>7</td>\n",
       "      <td>1021.8</td>\n",
       "      <td>21.4</td>\n",
       "      <td>18.8</td>\n",
       "      <td>17.0</td>\n",
       "      <td>15.0</td>\n",
       "      <td>79</td>\n",
       "      <td>56</td>\n",
       "      <td>no</td>\n",
       "      <td>3.4</td>\n",
       "      <td>30.0</td>\n",
       "      <td>21.5</td>\n",
       "    </tr>\n",
       "    <tr>\n",
       "      <th>7</th>\n",
       "      <td>8</td>\n",
       "      <td>1020.8</td>\n",
       "      <td>21.0</td>\n",
       "      <td>18.4</td>\n",
       "      <td>16.5</td>\n",
       "      <td>14.4</td>\n",
       "      <td>78</td>\n",
       "      <td>28</td>\n",
       "      <td>no</td>\n",
       "      <td>7.7</td>\n",
       "      <td>60.0</td>\n",
       "      <td>14.3</td>\n",
       "    </tr>\n",
       "    <tr>\n",
       "      <th>8</th>\n",
       "      <td>9</td>\n",
       "      <td>1020.6</td>\n",
       "      <td>18.9</td>\n",
       "      <td>18.1</td>\n",
       "      <td>17.1</td>\n",
       "      <td>14.3</td>\n",
       "      <td>78</td>\n",
       "      <td>79</td>\n",
       "      <td>no</td>\n",
       "      <td>3.3</td>\n",
       "      <td>70.0</td>\n",
       "      <td>39.3</td>\n",
       "    </tr>\n",
       "    <tr>\n",
       "      <th>9</th>\n",
       "      <td>10</td>\n",
       "      <td>1017.5</td>\n",
       "      <td>18.5</td>\n",
       "      <td>18.0</td>\n",
       "      <td>17.2</td>\n",
       "      <td>15.5</td>\n",
       "      <td>85</td>\n",
       "      <td>91</td>\n",
       "      <td>yes</td>\n",
       "      <td>0.0</td>\n",
       "      <td>70.0</td>\n",
       "      <td>37.7</td>\n",
       "    </tr>\n",
       "  </tbody>\n",
       "</table>\n",
       "</div>"
      ],
      "text/plain": [
       "   day  pressure   maxtemp  temparature  mintemp  dewpoint  humidity   cloud   \\\n",
       "0    1     1025.9     19.9         18.3     16.8      13.1         72      49   \n",
       "1    2     1022.0     21.7         18.9     17.2      15.6         81      83   \n",
       "2    3     1019.7     20.3         19.3     18.0      18.4         95      91   \n",
       "3    4     1018.9     22.3         20.6     19.1      18.8         90      88   \n",
       "4    5     1015.9     21.3         20.7     20.2      19.9         95      81   \n",
       "5    6     1018.8     24.3         20.9     19.2      18.0         84      51   \n",
       "6    7     1021.8     21.4         18.8     17.0      15.0         79      56   \n",
       "7    8     1020.8     21.0         18.4     16.5      14.4         78      28   \n",
       "8    9     1020.6     18.9         18.1     17.1      14.3         78      79   \n",
       "9   10     1017.5     18.5         18.0     17.2      15.5         85      91   \n",
       "\n",
       "  rainfall  sunshine           winddirection  windspeed  \n",
       "0      yes       9.3                    80.0       26.3  \n",
       "1      yes       0.6                    50.0       15.3  \n",
       "2      yes       0.0                    40.0       14.2  \n",
       "3      yes       1.0                    50.0       16.9  \n",
       "4      yes       0.0                    40.0       13.7  \n",
       "5      yes       7.7                    20.0       14.5  \n",
       "6       no       3.4                    30.0       21.5  \n",
       "7       no       7.7                    60.0       14.3  \n",
       "8       no       3.3                    70.0       39.3  \n",
       "9      yes       0.0                    70.0       37.7  "
      ]
     },
     "execution_count": 84,
     "metadata": {},
     "output_type": "execute_result"
    }
   ],
   "source": [
    "data = pd.read_csv(\"../dataset/Rainfall.csv\")\n",
    "data.head(10)"
   ]
  },
  {
   "cell_type": "code",
   "execution_count": 85,
   "id": "a6d9e1dd",
   "metadata": {},
   "outputs": [
    {
     "data": {
      "text/plain": [
       "(366, 12)"
      ]
     },
     "execution_count": 85,
     "metadata": {},
     "output_type": "execute_result"
    }
   ],
   "source": [
    "data.shape"
   ]
  },
  {
   "cell_type": "code",
   "execution_count": 86,
   "id": "11ac0d06",
   "metadata": {},
   "outputs": [
    {
     "name": "stdout",
     "output_type": "stream",
     "text": [
      "<class 'pandas.core.frame.DataFrame'>\n",
      "RangeIndex: 366 entries, 0 to 365\n",
      "Data columns (total 12 columns):\n",
      " #   Column                  Non-Null Count  Dtype  \n",
      "---  ------                  --------------  -----  \n",
      " 0   day                     366 non-null    int64  \n",
      " 1   pressure                366 non-null    float64\n",
      " 2   maxtemp                 366 non-null    float64\n",
      " 3   temparature             366 non-null    float64\n",
      " 4   mintemp                 366 non-null    float64\n",
      " 5   dewpoint                366 non-null    float64\n",
      " 6   humidity                366 non-null    int64  \n",
      " 7   cloud                   366 non-null    int64  \n",
      " 8   rainfall                366 non-null    object \n",
      " 9   sunshine                366 non-null    float64\n",
      " 10           winddirection  365 non-null    float64\n",
      " 11  windspeed               365 non-null    float64\n",
      "dtypes: float64(8), int64(3), object(1)\n",
      "memory usage: 34.4+ KB\n"
     ]
    }
   ],
   "source": [
    "data.info()"
   ]
  },
  {
   "cell_type": "code",
   "execution_count": 87,
   "id": "6245ee79",
   "metadata": {},
   "outputs": [
    {
     "data": {
      "text/plain": [
       "np.int64(0)"
      ]
     },
     "execution_count": 87,
     "metadata": {},
     "output_type": "execute_result"
    }
   ],
   "source": [
    "data.duplicated().sum()"
   ]
  },
  {
   "cell_type": "code",
   "execution_count": 88,
   "id": "69f4a8c2",
   "metadata": {},
   "outputs": [
    {
     "data": {
      "text/plain": [
       "day                       0\n",
       "pressure                  0\n",
       "maxtemp                   0\n",
       "temparature               0\n",
       "mintemp                   0\n",
       "dewpoint                  0\n",
       "humidity                  0\n",
       "cloud                     0\n",
       "rainfall                  0\n",
       "sunshine                  0\n",
       "         winddirection    1\n",
       "windspeed                 1\n",
       "dtype: int64"
      ]
     },
     "execution_count": 88,
     "metadata": {},
     "output_type": "execute_result"
    }
   ],
   "source": [
    "data.isnull().sum()"
   ]
  },
  {
   "cell_type": "code",
   "execution_count": 89,
   "id": "89971b46",
   "metadata": {},
   "outputs": [],
   "source": [
    "# Assuming df is your DataFrame\n",
    "data.columns = data.columns.str.strip()"
   ]
  },
  {
   "cell_type": "code",
   "execution_count": 90,
   "id": "af0c7ab6",
   "metadata": {},
   "outputs": [
    {
     "data": {
      "text/plain": [
       "day              0\n",
       "pressure         0\n",
       "maxtemp          0\n",
       "temparature      0\n",
       "mintemp          0\n",
       "dewpoint         0\n",
       "humidity         0\n",
       "cloud            0\n",
       "rainfall         0\n",
       "sunshine         0\n",
       "winddirection    1\n",
       "windspeed        1\n",
       "dtype: int64"
      ]
     },
     "execution_count": 90,
     "metadata": {},
     "output_type": "execute_result"
    }
   ],
   "source": [
    "data.isnull().sum()"
   ]
  },
  {
   "cell_type": "code",
   "execution_count": 91,
   "id": "d60fa331",
   "metadata": {},
   "outputs": [
    {
     "data": {
      "text/plain": [
       "rainfall\n",
       "yes    249\n",
       "no     117\n",
       "Name: count, dtype: int64"
      ]
     },
     "execution_count": 91,
     "metadata": {},
     "output_type": "execute_result"
    }
   ],
   "source": [
    "data[\"rainfall\"].value_counts()"
   ]
  },
  {
   "cell_type": "code",
   "execution_count": 92,
   "id": "28e866e1",
   "metadata": {},
   "outputs": [
    {
     "name": "stdout",
     "output_type": "stream",
     "text": [
      "rainfall\n",
      "yes    68.032787\n",
      "no     31.967213\n",
      "Name: proportion, dtype: float64\n"
     ]
    }
   ],
   "source": [
    "percentages = data['rainfall'].value_counts(normalize=True) * 100\n",
    "print(percentages)"
   ]
  },
  {
   "cell_type": "code",
   "execution_count": 93,
   "id": "67ddb3d7",
   "metadata": {},
   "outputs": [
    {
     "data": {
      "text/html": [
       "<div>\n",
       "<style scoped>\n",
       "    .dataframe tbody tr th:only-of-type {\n",
       "        vertical-align: middle;\n",
       "    }\n",
       "\n",
       "    .dataframe tbody tr th {\n",
       "        vertical-align: top;\n",
       "    }\n",
       "\n",
       "    .dataframe thead th {\n",
       "        text-align: right;\n",
       "    }\n",
       "</style>\n",
       "<table border=\"1\" class=\"dataframe\">\n",
       "  <thead>\n",
       "    <tr style=\"text-align: right;\">\n",
       "      <th></th>\n",
       "      <th>day</th>\n",
       "      <th>pressure</th>\n",
       "      <th>maxtemp</th>\n",
       "      <th>temparature</th>\n",
       "      <th>mintemp</th>\n",
       "      <th>dewpoint</th>\n",
       "      <th>humidity</th>\n",
       "      <th>cloud</th>\n",
       "      <th>rainfall</th>\n",
       "      <th>sunshine</th>\n",
       "      <th>winddirection</th>\n",
       "      <th>windspeed</th>\n",
       "    </tr>\n",
       "  </thead>\n",
       "  <tbody>\n",
       "    <tr>\n",
       "      <th>207</th>\n",
       "      <td>26</td>\n",
       "      <td>1008.3</td>\n",
       "      <td>32.0</td>\n",
       "      <td>29.4</td>\n",
       "      <td>27.0</td>\n",
       "      <td>26.4</td>\n",
       "      <td>84</td>\n",
       "      <td>57</td>\n",
       "      <td>yes</td>\n",
       "      <td>7.4</td>\n",
       "      <td>60.0</td>\n",
       "      <td>17.5</td>\n",
       "    </tr>\n",
       "    <tr>\n",
       "      <th>363</th>\n",
       "      <td>29</td>\n",
       "      <td>1025.9</td>\n",
       "      <td>18.9</td>\n",
       "      <td>17.7</td>\n",
       "      <td>16.4</td>\n",
       "      <td>13.3</td>\n",
       "      <td>75</td>\n",
       "      <td>78</td>\n",
       "      <td>yes</td>\n",
       "      <td>4.6</td>\n",
       "      <td>70.0</td>\n",
       "      <td>33.4</td>\n",
       "    </tr>\n",
       "    <tr>\n",
       "      <th>339</th>\n",
       "      <td>5</td>\n",
       "      <td>1018.4</td>\n",
       "      <td>20.3</td>\n",
       "      <td>18.4</td>\n",
       "      <td>15.7</td>\n",
       "      <td>15.8</td>\n",
       "      <td>85</td>\n",
       "      <td>91</td>\n",
       "      <td>yes</td>\n",
       "      <td>0.1</td>\n",
       "      <td>70.0</td>\n",
       "      <td>41.3</td>\n",
       "    </tr>\n",
       "    <tr>\n",
       "      <th>39</th>\n",
       "      <td>9</td>\n",
       "      <td>1020.8</td>\n",
       "      <td>21.2</td>\n",
       "      <td>16.7</td>\n",
       "      <td>12.7</td>\n",
       "      <td>7.2</td>\n",
       "      <td>54</td>\n",
       "      <td>29</td>\n",
       "      <td>no</td>\n",
       "      <td>10.2</td>\n",
       "      <td>40.0</td>\n",
       "      <td>17.2</td>\n",
       "    </tr>\n",
       "    <tr>\n",
       "      <th>61</th>\n",
       "      <td>2</td>\n",
       "      <td>1023.8</td>\n",
       "      <td>20.6</td>\n",
       "      <td>16.6</td>\n",
       "      <td>14.4</td>\n",
       "      <td>11.4</td>\n",
       "      <td>72</td>\n",
       "      <td>32</td>\n",
       "      <td>no</td>\n",
       "      <td>10.6</td>\n",
       "      <td>60.0</td>\n",
       "      <td>27.1</td>\n",
       "    </tr>\n",
       "    <tr>\n",
       "      <th>201</th>\n",
       "      <td>20</td>\n",
       "      <td>1009.8</td>\n",
       "      <td>31.9</td>\n",
       "      <td>29.2</td>\n",
       "      <td>25.6</td>\n",
       "      <td>25.6</td>\n",
       "      <td>82</td>\n",
       "      <td>70</td>\n",
       "      <td>yes</td>\n",
       "      <td>6.4</td>\n",
       "      <td>220.0</td>\n",
       "      <td>22.6</td>\n",
       "    </tr>\n",
       "    <tr>\n",
       "      <th>128</th>\n",
       "      <td>8</td>\n",
       "      <td>1011.4</td>\n",
       "      <td>31.2</td>\n",
       "      <td>28.7</td>\n",
       "      <td>27.3</td>\n",
       "      <td>25.2</td>\n",
       "      <td>82</td>\n",
       "      <td>80</td>\n",
       "      <td>no</td>\n",
       "      <td>3.8</td>\n",
       "      <td>150.0</td>\n",
       "      <td>9.5</td>\n",
       "    </tr>\n",
       "    <tr>\n",
       "      <th>110</th>\n",
       "      <td>20</td>\n",
       "      <td>1014.6</td>\n",
       "      <td>22.9</td>\n",
       "      <td>21.6</td>\n",
       "      <td>20.2</td>\n",
       "      <td>19.5</td>\n",
       "      <td>88</td>\n",
       "      <td>89</td>\n",
       "      <td>yes</td>\n",
       "      <td>0.2</td>\n",
       "      <td>40.0</td>\n",
       "      <td>20.9</td>\n",
       "    </tr>\n",
       "    <tr>\n",
       "      <th>246</th>\n",
       "      <td>3</td>\n",
       "      <td>1013.0</td>\n",
       "      <td>29.0</td>\n",
       "      <td>27.6</td>\n",
       "      <td>25.8</td>\n",
       "      <td>25.8</td>\n",
       "      <td>90</td>\n",
       "      <td>87</td>\n",
       "      <td>yes</td>\n",
       "      <td>0.7</td>\n",
       "      <td>60.0</td>\n",
       "      <td>18.2</td>\n",
       "    </tr>\n",
       "    <tr>\n",
       "      <th>153</th>\n",
       "      <td>2</td>\n",
       "      <td>1006.0</td>\n",
       "      <td>33.0</td>\n",
       "      <td>30.3</td>\n",
       "      <td>28.7</td>\n",
       "      <td>26.3</td>\n",
       "      <td>79</td>\n",
       "      <td>58</td>\n",
       "      <td>no</td>\n",
       "      <td>10.0</td>\n",
       "      <td>230.0</td>\n",
       "      <td>27.4</td>\n",
       "    </tr>\n",
       "  </tbody>\n",
       "</table>\n",
       "</div>"
      ],
      "text/plain": [
       "     day  pressure  maxtemp  temparature  mintemp  dewpoint  humidity  cloud  \\\n",
       "207   26    1008.3     32.0         29.4     27.0      26.4        84     57   \n",
       "363   29    1025.9     18.9         17.7     16.4      13.3        75     78   \n",
       "339    5    1018.4     20.3         18.4     15.7      15.8        85     91   \n",
       "39     9    1020.8     21.2         16.7     12.7       7.2        54     29   \n",
       "61     2    1023.8     20.6         16.6     14.4      11.4        72     32   \n",
       "201   20    1009.8     31.9         29.2     25.6      25.6        82     70   \n",
       "128    8    1011.4     31.2         28.7     27.3      25.2        82     80   \n",
       "110   20    1014.6     22.9         21.6     20.2      19.5        88     89   \n",
       "246    3    1013.0     29.0         27.6     25.8      25.8        90     87   \n",
       "153    2    1006.0     33.0         30.3     28.7      26.3        79     58   \n",
       "\n",
       "    rainfall  sunshine  winddirection  windspeed  \n",
       "207      yes       7.4           60.0       17.5  \n",
       "363      yes       4.6           70.0       33.4  \n",
       "339      yes       0.1           70.0       41.3  \n",
       "39        no      10.2           40.0       17.2  \n",
       "61        no      10.6           60.0       27.1  \n",
       "201      yes       6.4          220.0       22.6  \n",
       "128       no       3.8          150.0        9.5  \n",
       "110      yes       0.2           40.0       20.9  \n",
       "246      yes       0.7           60.0       18.2  \n",
       "153       no      10.0          230.0       27.4  "
      ]
     },
     "execution_count": 93,
     "metadata": {},
     "output_type": "execute_result"
    }
   ],
   "source": [
    "data.sample(10)"
   ]
  },
  {
   "cell_type": "code",
   "execution_count": 94,
   "id": "33c6b11e",
   "metadata": {},
   "outputs": [
    {
     "data": {
      "text/html": [
       "<div>\n",
       "<style scoped>\n",
       "    .dataframe tbody tr th:only-of-type {\n",
       "        vertical-align: middle;\n",
       "    }\n",
       "\n",
       "    .dataframe tbody tr th {\n",
       "        vertical-align: top;\n",
       "    }\n",
       "\n",
       "    .dataframe thead th {\n",
       "        text-align: right;\n",
       "    }\n",
       "</style>\n",
       "<table border=\"1\" class=\"dataframe\">\n",
       "  <thead>\n",
       "    <tr style=\"text-align: right;\">\n",
       "      <th></th>\n",
       "      <th>pressure</th>\n",
       "      <th>maxtemp</th>\n",
       "      <th>temparature</th>\n",
       "      <th>mintemp</th>\n",
       "      <th>dewpoint</th>\n",
       "      <th>humidity</th>\n",
       "      <th>cloud</th>\n",
       "      <th>rainfall</th>\n",
       "      <th>sunshine</th>\n",
       "      <th>winddirection</th>\n",
       "      <th>windspeed</th>\n",
       "    </tr>\n",
       "  </thead>\n",
       "  <tbody>\n",
       "    <tr>\n",
       "      <th>87</th>\n",
       "      <td>1024.1</td>\n",
       "      <td>19.9</td>\n",
       "      <td>16.9</td>\n",
       "      <td>15.2</td>\n",
       "      <td>10.0</td>\n",
       "      <td>65</td>\n",
       "      <td>58</td>\n",
       "      <td>no</td>\n",
       "      <td>5.6</td>\n",
       "      <td>60.0</td>\n",
       "      <td>26.9</td>\n",
       "    </tr>\n",
       "    <tr>\n",
       "      <th>127</th>\n",
       "      <td>1010.6</td>\n",
       "      <td>31.0</td>\n",
       "      <td>28.7</td>\n",
       "      <td>27.1</td>\n",
       "      <td>25.1</td>\n",
       "      <td>81</td>\n",
       "      <td>69</td>\n",
       "      <td>no</td>\n",
       "      <td>4.7</td>\n",
       "      <td>170.0</td>\n",
       "      <td>12.1</td>\n",
       "    </tr>\n",
       "    <tr>\n",
       "      <th>329</th>\n",
       "      <td>1017.7</td>\n",
       "      <td>25.3</td>\n",
       "      <td>22.6</td>\n",
       "      <td>18.2</td>\n",
       "      <td>16.8</td>\n",
       "      <td>70</td>\n",
       "      <td>44</td>\n",
       "      <td>no</td>\n",
       "      <td>6.9</td>\n",
       "      <td>20.0</td>\n",
       "      <td>28.6</td>\n",
       "    </tr>\n",
       "    <tr>\n",
       "      <th>121</th>\n",
       "      <td>1011.5</td>\n",
       "      <td>23.4</td>\n",
       "      <td>22.2</td>\n",
       "      <td>20.4</td>\n",
       "      <td>20.9</td>\n",
       "      <td>92</td>\n",
       "      <td>90</td>\n",
       "      <td>yes</td>\n",
       "      <td>0.5</td>\n",
       "      <td>50.0</td>\n",
       "      <td>23.7</td>\n",
       "    </tr>\n",
       "    <tr>\n",
       "      <th>139</th>\n",
       "      <td>1009.9</td>\n",
       "      <td>28.1</td>\n",
       "      <td>25.5</td>\n",
       "      <td>24.0</td>\n",
       "      <td>22.5</td>\n",
       "      <td>84</td>\n",
       "      <td>85</td>\n",
       "      <td>yes</td>\n",
       "      <td>3.5</td>\n",
       "      <td>70.0</td>\n",
       "      <td>26.4</td>\n",
       "    </tr>\n",
       "    <tr>\n",
       "      <th>250</th>\n",
       "      <td>1007.2</td>\n",
       "      <td>29.6</td>\n",
       "      <td>28.3</td>\n",
       "      <td>26.7</td>\n",
       "      <td>25.9</td>\n",
       "      <td>87</td>\n",
       "      <td>82</td>\n",
       "      <td>yes</td>\n",
       "      <td>0.5</td>\n",
       "      <td>250.0</td>\n",
       "      <td>21.3</td>\n",
       "    </tr>\n",
       "    <tr>\n",
       "      <th>122</th>\n",
       "      <td>1011.0</td>\n",
       "      <td>29.8</td>\n",
       "      <td>25.6</td>\n",
       "      <td>22.8</td>\n",
       "      <td>23.6</td>\n",
       "      <td>89</td>\n",
       "      <td>82</td>\n",
       "      <td>yes</td>\n",
       "      <td>2.0</td>\n",
       "      <td>50.0</td>\n",
       "      <td>11.1</td>\n",
       "    </tr>\n",
       "    <tr>\n",
       "      <th>330</th>\n",
       "      <td>1020.6</td>\n",
       "      <td>21.2</td>\n",
       "      <td>18.2</td>\n",
       "      <td>15.8</td>\n",
       "      <td>7.8</td>\n",
       "      <td>52</td>\n",
       "      <td>46</td>\n",
       "      <td>no</td>\n",
       "      <td>3.5</td>\n",
       "      <td>20.0</td>\n",
       "      <td>34.3</td>\n",
       "    </tr>\n",
       "    <tr>\n",
       "      <th>284</th>\n",
       "      <td>1018.0</td>\n",
       "      <td>22.1</td>\n",
       "      <td>20.5</td>\n",
       "      <td>18.5</td>\n",
       "      <td>16.6</td>\n",
       "      <td>78</td>\n",
       "      <td>88</td>\n",
       "      <td>yes</td>\n",
       "      <td>0.0</td>\n",
       "      <td>20.0</td>\n",
       "      <td>38.3</td>\n",
       "    </tr>\n",
       "    <tr>\n",
       "      <th>97</th>\n",
       "      <td>1013.2</td>\n",
       "      <td>26.9</td>\n",
       "      <td>23.9</td>\n",
       "      <td>22.4</td>\n",
       "      <td>22.3</td>\n",
       "      <td>91</td>\n",
       "      <td>84</td>\n",
       "      <td>no</td>\n",
       "      <td>1.8</td>\n",
       "      <td>40.0</td>\n",
       "      <td>10.0</td>\n",
       "    </tr>\n",
       "  </tbody>\n",
       "</table>\n",
       "</div>"
      ],
      "text/plain": [
       "     pressure  maxtemp  temparature  mintemp  dewpoint  humidity  cloud  \\\n",
       "87     1024.1     19.9         16.9     15.2      10.0        65     58   \n",
       "127    1010.6     31.0         28.7     27.1      25.1        81     69   \n",
       "329    1017.7     25.3         22.6     18.2      16.8        70     44   \n",
       "121    1011.5     23.4         22.2     20.4      20.9        92     90   \n",
       "139    1009.9     28.1         25.5     24.0      22.5        84     85   \n",
       "250    1007.2     29.6         28.3     26.7      25.9        87     82   \n",
       "122    1011.0     29.8         25.6     22.8      23.6        89     82   \n",
       "330    1020.6     21.2         18.2     15.8       7.8        52     46   \n",
       "284    1018.0     22.1         20.5     18.5      16.6        78     88   \n",
       "97     1013.2     26.9         23.9     22.4      22.3        91     84   \n",
       "\n",
       "    rainfall  sunshine  winddirection  windspeed  \n",
       "87        no       5.6           60.0       26.9  \n",
       "127       no       4.7          170.0       12.1  \n",
       "329       no       6.9           20.0       28.6  \n",
       "121      yes       0.5           50.0       23.7  \n",
       "139      yes       3.5           70.0       26.4  \n",
       "250      yes       0.5          250.0       21.3  \n",
       "122      yes       2.0           50.0       11.1  \n",
       "330       no       3.5           20.0       34.3  \n",
       "284      yes       0.0           20.0       38.3  \n",
       "97        no       1.8           40.0       10.0  "
      ]
     },
     "execution_count": 94,
     "metadata": {},
     "output_type": "execute_result"
    }
   ],
   "source": [
    "# dropping the unwanted features\n",
    "data = data.drop(\"day\", axis=1)\n",
    "data.sample(10)"
   ]
  },
  {
   "cell_type": "code",
   "execution_count": 95,
   "id": "a11f6228",
   "metadata": {},
   "outputs": [
    {
     "data": {
      "text/plain": [
       "pressure         0\n",
       "maxtemp          0\n",
       "temparature      0\n",
       "mintemp          0\n",
       "dewpoint         0\n",
       "humidity         0\n",
       "cloud            0\n",
       "rainfall         0\n",
       "sunshine         0\n",
       "winddirection    1\n",
       "windspeed        1\n",
       "dtype: int64"
      ]
     },
     "execution_count": 95,
     "metadata": {},
     "output_type": "execute_result"
    }
   ],
   "source": [
    "data.isnull().sum()"
   ]
  },
  {
   "cell_type": "code",
   "execution_count": 96,
   "id": "20e00fb2",
   "metadata": {},
   "outputs": [
    {
     "data": {
      "text/plain": [
       "array([ 80.,  50.,  40.,  20.,  30.,  60.,  70.,  10., 200., 220., 120.,\n",
       "       190., 210., 300., 240., 180., 230.,  90., 170., 150., 100., 130.,\n",
       "        nan, 160., 270., 280., 250., 260., 290., 350., 110., 140.])"
      ]
     },
     "execution_count": 96,
     "metadata": {},
     "output_type": "execute_result"
    }
   ],
   "source": [
    "data[\"winddirection\"].unique()"
   ]
  },
  {
   "cell_type": "code",
   "execution_count": 97,
   "id": "f09675be",
   "metadata": {},
   "outputs": [
    {
     "data": {
      "text/plain": [
       "np.float64(70.0)"
      ]
     },
     "execution_count": 97,
     "metadata": {},
     "output_type": "execute_result"
    }
   ],
   "source": [
    "data[\"winddirection\"].median()"
   ]
  },
  {
   "cell_type": "code",
   "execution_count": 98,
   "id": "24ccddc7",
   "metadata": {},
   "outputs": [
    {
     "data": {
      "text/plain": [
       "0    20.0\n",
       "Name: winddirection, dtype: float64"
      ]
     },
     "execution_count": 98,
     "metadata": {},
     "output_type": "execute_result"
    }
   ],
   "source": [
    "data[\"winddirection\"].mode()"
   ]
  },
  {
   "cell_type": "code",
   "execution_count": 99,
   "id": "8a4082e2",
   "metadata": {},
   "outputs": [
    {
     "data": {
      "text/plain": [
       "np.float64(20.5)"
      ]
     },
     "execution_count": 99,
     "metadata": {},
     "output_type": "execute_result"
    }
   ],
   "source": [
    "data[\"windspeed\"].median()"
   ]
  },
  {
   "cell_type": "code",
   "execution_count": 100,
   "id": "ab2ae561",
   "metadata": {},
   "outputs": [
    {
     "data": {
      "text/plain": [
       "np.float64(21.53698630136986)"
      ]
     },
     "execution_count": 100,
     "metadata": {},
     "output_type": "execute_result"
    }
   ],
   "source": [
    "data[\"windspeed\"].mean()"
   ]
  },
  {
   "cell_type": "code",
   "execution_count": 101,
   "id": "3a665617",
   "metadata": {},
   "outputs": [
    {
     "data": {
      "text/plain": [
       "0    14.5\n",
       "Name: windspeed, dtype: float64"
      ]
     },
     "execution_count": 101,
     "metadata": {},
     "output_type": "execute_result"
    }
   ],
   "source": [
    "data[\"windspeed\"].mode()"
   ]
  },
  {
   "cell_type": "code",
   "execution_count": 102,
   "id": "b5fa4043",
   "metadata": {},
   "outputs": [],
   "source": [
    "# filling the missing values\n",
    "data[\"winddirection\"] = data[\"winddirection\"].fillna(data[\"winddirection\"].mode()[0])\n",
    "data[\"windspeed\"] = data[\"winddirection\"].fillna(data[\"windspeed\"].median())"
   ]
  },
  {
   "cell_type": "code",
   "execution_count": 103,
   "id": "d1c648d2",
   "metadata": {},
   "outputs": [
    {
     "data": {
      "text/plain": [
       "pressure         0\n",
       "maxtemp          0\n",
       "temparature      0\n",
       "mintemp          0\n",
       "dewpoint         0\n",
       "humidity         0\n",
       "cloud            0\n",
       "rainfall         0\n",
       "sunshine         0\n",
       "winddirection    0\n",
       "windspeed        0\n",
       "dtype: int64"
      ]
     },
     "execution_count": 103,
     "metadata": {},
     "output_type": "execute_result"
    }
   ],
   "source": [
    "data.isnull().sum()"
   ]
  },
  {
   "cell_type": "code",
   "execution_count": 104,
   "id": "48561cc3",
   "metadata": {},
   "outputs": [
    {
     "data": {
      "text/plain": [
       "array([ 80.,  50.,  40.,  20.,  30.,  60.,  70.,  10., 200., 220., 120.,\n",
       "       190., 210., 300., 240., 180., 230.,  90., 170., 150., 100., 130.,\n",
       "       160., 270., 280., 250., 260., 290., 350., 110., 140.])"
      ]
     },
     "execution_count": 104,
     "metadata": {},
     "output_type": "execute_result"
    }
   ],
   "source": [
    "data[\"winddirection\"].unique()"
   ]
  },
  {
   "cell_type": "code",
   "execution_count": 105,
   "id": "0b21bb3e",
   "metadata": {},
   "outputs": [
    {
     "data": {
      "text/plain": [
       "rainfall\n",
       "yes    249\n",
       "no     117\n",
       "Name: count, dtype: int64"
      ]
     },
     "execution_count": 105,
     "metadata": {},
     "output_type": "execute_result"
    }
   ],
   "source": [
    "data[\"rainfall\"].value_counts()"
   ]
  },
  {
   "cell_type": "code",
   "execution_count": 106,
   "id": "cdf2b403",
   "metadata": {},
   "outputs": [
    {
     "name": "stderr",
     "output_type": "stream",
     "text": [
      "/tmp/ipykernel_11964/1650937539.py:2: FutureWarning: Downcasting behavior in `replace` is deprecated and will be removed in a future version. To retain the old behavior, explicitly call `result.infer_objects(copy=False)`. To opt-in to the future behavior, set `pd.set_option('future.no_silent_downcasting', True)`\n",
      "  data[\"rainfall\"] = data[\"rainfall\"].replace(\n"
     ]
    }
   ],
   "source": [
    "# encoding the rainfall feature into numerical: yes-->1, no-->0\n",
    "data[\"rainfall\"] = data[\"rainfall\"].replace(\n",
    "    {\"yes\": 1, \"no\": 0}\n",
    ")"
   ]
  },
  {
   "cell_type": "code",
   "execution_count": 107,
   "id": "acd0a54e",
   "metadata": {},
   "outputs": [
    {
     "data": {
      "text/plain": [
       "rainfall\n",
       "1    249\n",
       "0    117\n",
       "Name: count, dtype: int64"
      ]
     },
     "execution_count": 107,
     "metadata": {},
     "output_type": "execute_result"
    }
   ],
   "source": [
    "data[\"rainfall\"].value_counts()"
   ]
  },
  {
   "cell_type": "code",
   "execution_count": null,
   "id": "41375235",
   "metadata": {},
   "outputs": [],
   "source": []
  }
 ],
 "metadata": {
  "kernelspec": {
   "display_name": "std-prog",
   "language": "python",
   "name": "python3"
  },
  "language_info": {
   "codemirror_mode": {
    "name": "ipython",
    "version": 3
   },
   "file_extension": ".py",
   "mimetype": "text/x-python",
   "name": "python",
   "nbconvert_exporter": "python",
   "pygments_lexer": "ipython3",
   "version": "3.13.5"
  }
 },
 "nbformat": 4,
 "nbformat_minor": 5
}
