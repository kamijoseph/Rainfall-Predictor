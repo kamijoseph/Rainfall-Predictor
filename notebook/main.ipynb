{
 "cells": [
  {
   "cell_type": "markdown",
   "id": "47fc08a8",
   "metadata": {},
   "source": [
    "# Rainfall Prediction Model Using Random Forest Algorithm"
   ]
  },
  {
   "cell_type": "code",
   "execution_count": 111,
   "id": "ce7986ae",
   "metadata": {},
   "outputs": [],
   "source": [
    "import pandas as pd\n",
    "import numpy as np\n",
    "import matplotlib.pyplot as plt\n",
    "import seaborn as sns\n",
    "from sklearn.utils import resample\n",
    "from sklearn.metrics import classification_report, confusion_matrix, accuracy_score\n",
    "from sklearn.model_selection import GridSearchCV, train_test_split, cross_val_score\n",
    "from sklearn.ensemble import RandomForestClassifier\n",
    "import pickle"
   ]
  },
  {
   "cell_type": "code",
   "execution_count": 112,
   "id": "8c971a67",
   "metadata": {},
   "outputs": [
    {
     "data": {
      "text/html": [
       "<div>\n",
       "<style scoped>\n",
       "    .dataframe tbody tr th:only-of-type {\n",
       "        vertical-align: middle;\n",
       "    }\n",
       "\n",
       "    .dataframe tbody tr th {\n",
       "        vertical-align: top;\n",
       "    }\n",
       "\n",
       "    .dataframe thead th {\n",
       "        text-align: right;\n",
       "    }\n",
       "</style>\n",
       "<table border=\"1\" class=\"dataframe\">\n",
       "  <thead>\n",
       "    <tr style=\"text-align: right;\">\n",
       "      <th></th>\n",
       "      <th>day</th>\n",
       "      <th>pressure</th>\n",
       "      <th>maxtemp</th>\n",
       "      <th>temparature</th>\n",
       "      <th>mintemp</th>\n",
       "      <th>dewpoint</th>\n",
       "      <th>humidity</th>\n",
       "      <th>cloud</th>\n",
       "      <th>rainfall</th>\n",
       "      <th>sunshine</th>\n",
       "      <th>winddirection</th>\n",
       "      <th>windspeed</th>\n",
       "    </tr>\n",
       "  </thead>\n",
       "  <tbody>\n",
       "    <tr>\n",
       "      <th>0</th>\n",
       "      <td>1</td>\n",
       "      <td>1025.9</td>\n",
       "      <td>19.9</td>\n",
       "      <td>18.3</td>\n",
       "      <td>16.8</td>\n",
       "      <td>13.1</td>\n",
       "      <td>72</td>\n",
       "      <td>49</td>\n",
       "      <td>yes</td>\n",
       "      <td>9.3</td>\n",
       "      <td>80.0</td>\n",
       "      <td>26.3</td>\n",
       "    </tr>\n",
       "    <tr>\n",
       "      <th>1</th>\n",
       "      <td>2</td>\n",
       "      <td>1022.0</td>\n",
       "      <td>21.7</td>\n",
       "      <td>18.9</td>\n",
       "      <td>17.2</td>\n",
       "      <td>15.6</td>\n",
       "      <td>81</td>\n",
       "      <td>83</td>\n",
       "      <td>yes</td>\n",
       "      <td>0.6</td>\n",
       "      <td>50.0</td>\n",
       "      <td>15.3</td>\n",
       "    </tr>\n",
       "    <tr>\n",
       "      <th>2</th>\n",
       "      <td>3</td>\n",
       "      <td>1019.7</td>\n",
       "      <td>20.3</td>\n",
       "      <td>19.3</td>\n",
       "      <td>18.0</td>\n",
       "      <td>18.4</td>\n",
       "      <td>95</td>\n",
       "      <td>91</td>\n",
       "      <td>yes</td>\n",
       "      <td>0.0</td>\n",
       "      <td>40.0</td>\n",
       "      <td>14.2</td>\n",
       "    </tr>\n",
       "    <tr>\n",
       "      <th>3</th>\n",
       "      <td>4</td>\n",
       "      <td>1018.9</td>\n",
       "      <td>22.3</td>\n",
       "      <td>20.6</td>\n",
       "      <td>19.1</td>\n",
       "      <td>18.8</td>\n",
       "      <td>90</td>\n",
       "      <td>88</td>\n",
       "      <td>yes</td>\n",
       "      <td>1.0</td>\n",
       "      <td>50.0</td>\n",
       "      <td>16.9</td>\n",
       "    </tr>\n",
       "    <tr>\n",
       "      <th>4</th>\n",
       "      <td>5</td>\n",
       "      <td>1015.9</td>\n",
       "      <td>21.3</td>\n",
       "      <td>20.7</td>\n",
       "      <td>20.2</td>\n",
       "      <td>19.9</td>\n",
       "      <td>95</td>\n",
       "      <td>81</td>\n",
       "      <td>yes</td>\n",
       "      <td>0.0</td>\n",
       "      <td>40.0</td>\n",
       "      <td>13.7</td>\n",
       "    </tr>\n",
       "    <tr>\n",
       "      <th>5</th>\n",
       "      <td>6</td>\n",
       "      <td>1018.8</td>\n",
       "      <td>24.3</td>\n",
       "      <td>20.9</td>\n",
       "      <td>19.2</td>\n",
       "      <td>18.0</td>\n",
       "      <td>84</td>\n",
       "      <td>51</td>\n",
       "      <td>yes</td>\n",
       "      <td>7.7</td>\n",
       "      <td>20.0</td>\n",
       "      <td>14.5</td>\n",
       "    </tr>\n",
       "    <tr>\n",
       "      <th>6</th>\n",
       "      <td>7</td>\n",
       "      <td>1021.8</td>\n",
       "      <td>21.4</td>\n",
       "      <td>18.8</td>\n",
       "      <td>17.0</td>\n",
       "      <td>15.0</td>\n",
       "      <td>79</td>\n",
       "      <td>56</td>\n",
       "      <td>no</td>\n",
       "      <td>3.4</td>\n",
       "      <td>30.0</td>\n",
       "      <td>21.5</td>\n",
       "    </tr>\n",
       "    <tr>\n",
       "      <th>7</th>\n",
       "      <td>8</td>\n",
       "      <td>1020.8</td>\n",
       "      <td>21.0</td>\n",
       "      <td>18.4</td>\n",
       "      <td>16.5</td>\n",
       "      <td>14.4</td>\n",
       "      <td>78</td>\n",
       "      <td>28</td>\n",
       "      <td>no</td>\n",
       "      <td>7.7</td>\n",
       "      <td>60.0</td>\n",
       "      <td>14.3</td>\n",
       "    </tr>\n",
       "    <tr>\n",
       "      <th>8</th>\n",
       "      <td>9</td>\n",
       "      <td>1020.6</td>\n",
       "      <td>18.9</td>\n",
       "      <td>18.1</td>\n",
       "      <td>17.1</td>\n",
       "      <td>14.3</td>\n",
       "      <td>78</td>\n",
       "      <td>79</td>\n",
       "      <td>no</td>\n",
       "      <td>3.3</td>\n",
       "      <td>70.0</td>\n",
       "      <td>39.3</td>\n",
       "    </tr>\n",
       "    <tr>\n",
       "      <th>9</th>\n",
       "      <td>10</td>\n",
       "      <td>1017.5</td>\n",
       "      <td>18.5</td>\n",
       "      <td>18.0</td>\n",
       "      <td>17.2</td>\n",
       "      <td>15.5</td>\n",
       "      <td>85</td>\n",
       "      <td>91</td>\n",
       "      <td>yes</td>\n",
       "      <td>0.0</td>\n",
       "      <td>70.0</td>\n",
       "      <td>37.7</td>\n",
       "    </tr>\n",
       "  </tbody>\n",
       "</table>\n",
       "</div>"
      ],
      "text/plain": [
       "   day  pressure   maxtemp  temparature  mintemp  dewpoint  humidity   cloud   \\\n",
       "0    1     1025.9     19.9         18.3     16.8      13.1         72      49   \n",
       "1    2     1022.0     21.7         18.9     17.2      15.6         81      83   \n",
       "2    3     1019.7     20.3         19.3     18.0      18.4         95      91   \n",
       "3    4     1018.9     22.3         20.6     19.1      18.8         90      88   \n",
       "4    5     1015.9     21.3         20.7     20.2      19.9         95      81   \n",
       "5    6     1018.8     24.3         20.9     19.2      18.0         84      51   \n",
       "6    7     1021.8     21.4         18.8     17.0      15.0         79      56   \n",
       "7    8     1020.8     21.0         18.4     16.5      14.4         78      28   \n",
       "8    9     1020.6     18.9         18.1     17.1      14.3         78      79   \n",
       "9   10     1017.5     18.5         18.0     17.2      15.5         85      91   \n",
       "\n",
       "  rainfall  sunshine           winddirection  windspeed  \n",
       "0      yes       9.3                    80.0       26.3  \n",
       "1      yes       0.6                    50.0       15.3  \n",
       "2      yes       0.0                    40.0       14.2  \n",
       "3      yes       1.0                    50.0       16.9  \n",
       "4      yes       0.0                    40.0       13.7  \n",
       "5      yes       7.7                    20.0       14.5  \n",
       "6       no       3.4                    30.0       21.5  \n",
       "7       no       7.7                    60.0       14.3  \n",
       "8       no       3.3                    70.0       39.3  \n",
       "9      yes       0.0                    70.0       37.7  "
      ]
     },
     "execution_count": 112,
     "metadata": {},
     "output_type": "execute_result"
    }
   ],
   "source": [
    "data = pd.read_csv(\"../dataset/Rainfall.csv\")\n",
    "data.head(10)"
   ]
  },
  {
   "cell_type": "code",
   "execution_count": 113,
   "id": "a6d9e1dd",
   "metadata": {},
   "outputs": [
    {
     "data": {
      "text/plain": [
       "(366, 12)"
      ]
     },
     "execution_count": 113,
     "metadata": {},
     "output_type": "execute_result"
    }
   ],
   "source": [
    "data.shape"
   ]
  },
  {
   "cell_type": "code",
   "execution_count": 114,
   "id": "11ac0d06",
   "metadata": {},
   "outputs": [
    {
     "name": "stdout",
     "output_type": "stream",
     "text": [
      "<class 'pandas.core.frame.DataFrame'>\n",
      "RangeIndex: 366 entries, 0 to 365\n",
      "Data columns (total 12 columns):\n",
      " #   Column                  Non-Null Count  Dtype  \n",
      "---  ------                  --------------  -----  \n",
      " 0   day                     366 non-null    int64  \n",
      " 1   pressure                366 non-null    float64\n",
      " 2   maxtemp                 366 non-null    float64\n",
      " 3   temparature             366 non-null    float64\n",
      " 4   mintemp                 366 non-null    float64\n",
      " 5   dewpoint                366 non-null    float64\n",
      " 6   humidity                366 non-null    int64  \n",
      " 7   cloud                   366 non-null    int64  \n",
      " 8   rainfall                366 non-null    object \n",
      " 9   sunshine                366 non-null    float64\n",
      " 10           winddirection  365 non-null    float64\n",
      " 11  windspeed               365 non-null    float64\n",
      "dtypes: float64(8), int64(3), object(1)\n",
      "memory usage: 34.4+ KB\n"
     ]
    }
   ],
   "source": [
    "data.info()"
   ]
  },
  {
   "cell_type": "code",
   "execution_count": 115,
   "id": "6245ee79",
   "metadata": {},
   "outputs": [
    {
     "data": {
      "text/plain": [
       "np.int64(0)"
      ]
     },
     "execution_count": 115,
     "metadata": {},
     "output_type": "execute_result"
    }
   ],
   "source": [
    "data.duplicated().sum()"
   ]
  },
  {
   "cell_type": "code",
   "execution_count": 116,
   "id": "69f4a8c2",
   "metadata": {},
   "outputs": [
    {
     "data": {
      "text/plain": [
       "day                       0\n",
       "pressure                  0\n",
       "maxtemp                   0\n",
       "temparature               0\n",
       "mintemp                   0\n",
       "dewpoint                  0\n",
       "humidity                  0\n",
       "cloud                     0\n",
       "rainfall                  0\n",
       "sunshine                  0\n",
       "         winddirection    1\n",
       "windspeed                 1\n",
       "dtype: int64"
      ]
     },
     "execution_count": 116,
     "metadata": {},
     "output_type": "execute_result"
    }
   ],
   "source": [
    "data.isnull().sum()"
   ]
  },
  {
   "cell_type": "code",
   "execution_count": 117,
   "id": "89971b46",
   "metadata": {},
   "outputs": [],
   "source": [
    "# Assuming df is your DataFrame\n",
    "data.columns = data.columns.str.strip()"
   ]
  },
  {
   "cell_type": "code",
   "execution_count": 118,
   "id": "af0c7ab6",
   "metadata": {},
   "outputs": [
    {
     "data": {
      "text/plain": [
       "day              0\n",
       "pressure         0\n",
       "maxtemp          0\n",
       "temparature      0\n",
       "mintemp          0\n",
       "dewpoint         0\n",
       "humidity         0\n",
       "cloud            0\n",
       "rainfall         0\n",
       "sunshine         0\n",
       "winddirection    1\n",
       "windspeed        1\n",
       "dtype: int64"
      ]
     },
     "execution_count": 118,
     "metadata": {},
     "output_type": "execute_result"
    }
   ],
   "source": [
    "data.isnull().sum()"
   ]
  },
  {
   "cell_type": "code",
   "execution_count": 119,
   "id": "d60fa331",
   "metadata": {},
   "outputs": [
    {
     "data": {
      "text/plain": [
       "rainfall\n",
       "yes    249\n",
       "no     117\n",
       "Name: count, dtype: int64"
      ]
     },
     "execution_count": 119,
     "metadata": {},
     "output_type": "execute_result"
    }
   ],
   "source": [
    "data[\"rainfall\"].value_counts()"
   ]
  },
  {
   "cell_type": "code",
   "execution_count": 120,
   "id": "28e866e1",
   "metadata": {},
   "outputs": [
    {
     "name": "stdout",
     "output_type": "stream",
     "text": [
      "rainfall\n",
      "yes    68.032787\n",
      "no     31.967213\n",
      "Name: proportion, dtype: float64\n"
     ]
    }
   ],
   "source": [
    "percentages = data['rainfall'].value_counts(normalize=True) * 100\n",
    "print(percentages)"
   ]
  },
  {
   "cell_type": "code",
   "execution_count": 121,
   "id": "67ddb3d7",
   "metadata": {},
   "outputs": [
    {
     "data": {
      "text/html": [
       "<div>\n",
       "<style scoped>\n",
       "    .dataframe tbody tr th:only-of-type {\n",
       "        vertical-align: middle;\n",
       "    }\n",
       "\n",
       "    .dataframe tbody tr th {\n",
       "        vertical-align: top;\n",
       "    }\n",
       "\n",
       "    .dataframe thead th {\n",
       "        text-align: right;\n",
       "    }\n",
       "</style>\n",
       "<table border=\"1\" class=\"dataframe\">\n",
       "  <thead>\n",
       "    <tr style=\"text-align: right;\">\n",
       "      <th></th>\n",
       "      <th>day</th>\n",
       "      <th>pressure</th>\n",
       "      <th>maxtemp</th>\n",
       "      <th>temparature</th>\n",
       "      <th>mintemp</th>\n",
       "      <th>dewpoint</th>\n",
       "      <th>humidity</th>\n",
       "      <th>cloud</th>\n",
       "      <th>rainfall</th>\n",
       "      <th>sunshine</th>\n",
       "      <th>winddirection</th>\n",
       "      <th>windspeed</th>\n",
       "    </tr>\n",
       "  </thead>\n",
       "  <tbody>\n",
       "    <tr>\n",
       "      <th>230</th>\n",
       "      <td>18</td>\n",
       "      <td>1008.0</td>\n",
       "      <td>33.8</td>\n",
       "      <td>30.2</td>\n",
       "      <td>28.4</td>\n",
       "      <td>25.8</td>\n",
       "      <td>78</td>\n",
       "      <td>67</td>\n",
       "      <td>yes</td>\n",
       "      <td>10.2</td>\n",
       "      <td>220.0</td>\n",
       "      <td>18.1</td>\n",
       "    </tr>\n",
       "    <tr>\n",
       "      <th>21</th>\n",
       "      <td>22</td>\n",
       "      <td>1018.9</td>\n",
       "      <td>16.2</td>\n",
       "      <td>14.1</td>\n",
       "      <td>10.3</td>\n",
       "      <td>12.9</td>\n",
       "      <td>92</td>\n",
       "      <td>100</td>\n",
       "      <td>yes</td>\n",
       "      <td>0.0</td>\n",
       "      <td>50.0</td>\n",
       "      <td>35.3</td>\n",
       "    </tr>\n",
       "    <tr>\n",
       "      <th>171</th>\n",
       "      <td>20</td>\n",
       "      <td>1008.5</td>\n",
       "      <td>34.4</td>\n",
       "      <td>30.8</td>\n",
       "      <td>28.6</td>\n",
       "      <td>26.3</td>\n",
       "      <td>78</td>\n",
       "      <td>59</td>\n",
       "      <td>yes</td>\n",
       "      <td>9.1</td>\n",
       "      <td>170.0</td>\n",
       "      <td>12.1</td>\n",
       "    </tr>\n",
       "    <tr>\n",
       "      <th>60</th>\n",
       "      <td>1</td>\n",
       "      <td>1024.7</td>\n",
       "      <td>19.7</td>\n",
       "      <td>16.5</td>\n",
       "      <td>14.6</td>\n",
       "      <td>11.5</td>\n",
       "      <td>73</td>\n",
       "      <td>43</td>\n",
       "      <td>no</td>\n",
       "      <td>9.9</td>\n",
       "      <td>70.0</td>\n",
       "      <td>34.2</td>\n",
       "    </tr>\n",
       "    <tr>\n",
       "      <th>307</th>\n",
       "      <td>3</td>\n",
       "      <td>1019.5</td>\n",
       "      <td>25.8</td>\n",
       "      <td>23.7</td>\n",
       "      <td>22.3</td>\n",
       "      <td>18.8</td>\n",
       "      <td>74</td>\n",
       "      <td>82</td>\n",
       "      <td>yes</td>\n",
       "      <td>2.4</td>\n",
       "      <td>70.0</td>\n",
       "      <td>32.9</td>\n",
       "    </tr>\n",
       "    <tr>\n",
       "      <th>287</th>\n",
       "      <td>14</td>\n",
       "      <td>1017.4</td>\n",
       "      <td>28.2</td>\n",
       "      <td>25.0</td>\n",
       "      <td>23.1</td>\n",
       "      <td>20.1</td>\n",
       "      <td>75</td>\n",
       "      <td>51</td>\n",
       "      <td>no</td>\n",
       "      <td>7.4</td>\n",
       "      <td>70.0</td>\n",
       "      <td>23.9</td>\n",
       "    </tr>\n",
       "    <tr>\n",
       "      <th>296</th>\n",
       "      <td>23</td>\n",
       "      <td>1013.0</td>\n",
       "      <td>30.7</td>\n",
       "      <td>27.0</td>\n",
       "      <td>24.8</td>\n",
       "      <td>21.6</td>\n",
       "      <td>73</td>\n",
       "      <td>50</td>\n",
       "      <td>no</td>\n",
       "      <td>8.3</td>\n",
       "      <td>80.0</td>\n",
       "      <td>9.9</td>\n",
       "    </tr>\n",
       "    <tr>\n",
       "      <th>160</th>\n",
       "      <td>9</td>\n",
       "      <td>1005.7</td>\n",
       "      <td>31.7</td>\n",
       "      <td>28.2</td>\n",
       "      <td>26.6</td>\n",
       "      <td>25.7</td>\n",
       "      <td>86</td>\n",
       "      <td>79</td>\n",
       "      <td>yes</td>\n",
       "      <td>6.5</td>\n",
       "      <td>NaN</td>\n",
       "      <td>NaN</td>\n",
       "    </tr>\n",
       "    <tr>\n",
       "      <th>129</th>\n",
       "      <td>9</td>\n",
       "      <td>1010.1</td>\n",
       "      <td>30.6</td>\n",
       "      <td>28.7</td>\n",
       "      <td>26.9</td>\n",
       "      <td>25.0</td>\n",
       "      <td>81</td>\n",
       "      <td>69</td>\n",
       "      <td>no</td>\n",
       "      <td>3.9</td>\n",
       "      <td>170.0</td>\n",
       "      <td>16.3</td>\n",
       "    </tr>\n",
       "    <tr>\n",
       "      <th>293</th>\n",
       "      <td>20</td>\n",
       "      <td>1008.3</td>\n",
       "      <td>29.1</td>\n",
       "      <td>26.2</td>\n",
       "      <td>23.8</td>\n",
       "      <td>17.3</td>\n",
       "      <td>58</td>\n",
       "      <td>78</td>\n",
       "      <td>no</td>\n",
       "      <td>7.5</td>\n",
       "      <td>10.0</td>\n",
       "      <td>17.2</td>\n",
       "    </tr>\n",
       "  </tbody>\n",
       "</table>\n",
       "</div>"
      ],
      "text/plain": [
       "     day  pressure  maxtemp  temparature  mintemp  dewpoint  humidity  cloud  \\\n",
       "230   18    1008.0     33.8         30.2     28.4      25.8        78     67   \n",
       "21    22    1018.9     16.2         14.1     10.3      12.9        92    100   \n",
       "171   20    1008.5     34.4         30.8     28.6      26.3        78     59   \n",
       "60     1    1024.7     19.7         16.5     14.6      11.5        73     43   \n",
       "307    3    1019.5     25.8         23.7     22.3      18.8        74     82   \n",
       "287   14    1017.4     28.2         25.0     23.1      20.1        75     51   \n",
       "296   23    1013.0     30.7         27.0     24.8      21.6        73     50   \n",
       "160    9    1005.7     31.7         28.2     26.6      25.7        86     79   \n",
       "129    9    1010.1     30.6         28.7     26.9      25.0        81     69   \n",
       "293   20    1008.3     29.1         26.2     23.8      17.3        58     78   \n",
       "\n",
       "    rainfall  sunshine  winddirection  windspeed  \n",
       "230      yes      10.2          220.0       18.1  \n",
       "21       yes       0.0           50.0       35.3  \n",
       "171      yes       9.1          170.0       12.1  \n",
       "60        no       9.9           70.0       34.2  \n",
       "307      yes       2.4           70.0       32.9  \n",
       "287       no       7.4           70.0       23.9  \n",
       "296       no       8.3           80.0        9.9  \n",
       "160      yes       6.5            NaN        NaN  \n",
       "129       no       3.9          170.0       16.3  \n",
       "293       no       7.5           10.0       17.2  "
      ]
     },
     "execution_count": 121,
     "metadata": {},
     "output_type": "execute_result"
    }
   ],
   "source": [
    "data.sample(10)"
   ]
  },
  {
   "cell_type": "code",
   "execution_count": 122,
   "id": "33c6b11e",
   "metadata": {},
   "outputs": [
    {
     "data": {
      "text/html": [
       "<div>\n",
       "<style scoped>\n",
       "    .dataframe tbody tr th:only-of-type {\n",
       "        vertical-align: middle;\n",
       "    }\n",
       "\n",
       "    .dataframe tbody tr th {\n",
       "        vertical-align: top;\n",
       "    }\n",
       "\n",
       "    .dataframe thead th {\n",
       "        text-align: right;\n",
       "    }\n",
       "</style>\n",
       "<table border=\"1\" class=\"dataframe\">\n",
       "  <thead>\n",
       "    <tr style=\"text-align: right;\">\n",
       "      <th></th>\n",
       "      <th>pressure</th>\n",
       "      <th>maxtemp</th>\n",
       "      <th>temparature</th>\n",
       "      <th>mintemp</th>\n",
       "      <th>dewpoint</th>\n",
       "      <th>humidity</th>\n",
       "      <th>cloud</th>\n",
       "      <th>rainfall</th>\n",
       "      <th>sunshine</th>\n",
       "      <th>winddirection</th>\n",
       "      <th>windspeed</th>\n",
       "    </tr>\n",
       "  </thead>\n",
       "  <tbody>\n",
       "    <tr>\n",
       "      <th>198</th>\n",
       "      <td>1008.5</td>\n",
       "      <td>33.2</td>\n",
       "      <td>30.6</td>\n",
       "      <td>29.0</td>\n",
       "      <td>26.2</td>\n",
       "      <td>78</td>\n",
       "      <td>69</td>\n",
       "      <td>no</td>\n",
       "      <td>9.2</td>\n",
       "      <td>230.0</td>\n",
       "      <td>23.7</td>\n",
       "    </tr>\n",
       "    <tr>\n",
       "      <th>174</th>\n",
       "      <td>1008.4</td>\n",
       "      <td>34.1</td>\n",
       "      <td>30.4</td>\n",
       "      <td>28.4</td>\n",
       "      <td>24.7</td>\n",
       "      <td>72</td>\n",
       "      <td>20</td>\n",
       "      <td>no</td>\n",
       "      <td>11.4</td>\n",
       "      <td>210.0</td>\n",
       "      <td>9.6</td>\n",
       "    </tr>\n",
       "    <tr>\n",
       "      <th>150</th>\n",
       "      <td>1008.8</td>\n",
       "      <td>32.1</td>\n",
       "      <td>29.8</td>\n",
       "      <td>28.0</td>\n",
       "      <td>26.0</td>\n",
       "      <td>80</td>\n",
       "      <td>73</td>\n",
       "      <td>yes</td>\n",
       "      <td>9.8</td>\n",
       "      <td>220.0</td>\n",
       "      <td>22.8</td>\n",
       "    </tr>\n",
       "    <tr>\n",
       "      <th>26</th>\n",
       "      <td>1022.7</td>\n",
       "      <td>15.3</td>\n",
       "      <td>13.0</td>\n",
       "      <td>9.8</td>\n",
       "      <td>11.6</td>\n",
       "      <td>92</td>\n",
       "      <td>95</td>\n",
       "      <td>yes</td>\n",
       "      <td>0.2</td>\n",
       "      <td>20.0</td>\n",
       "      <td>29.6</td>\n",
       "    </tr>\n",
       "    <tr>\n",
       "      <th>284</th>\n",
       "      <td>1018.0</td>\n",
       "      <td>22.1</td>\n",
       "      <td>20.5</td>\n",
       "      <td>18.5</td>\n",
       "      <td>16.6</td>\n",
       "      <td>78</td>\n",
       "      <td>88</td>\n",
       "      <td>yes</td>\n",
       "      <td>0.0</td>\n",
       "      <td>20.0</td>\n",
       "      <td>38.3</td>\n",
       "    </tr>\n",
       "    <tr>\n",
       "      <th>303</th>\n",
       "      <td>1017.8</td>\n",
       "      <td>29.6</td>\n",
       "      <td>26.7</td>\n",
       "      <td>25.3</td>\n",
       "      <td>23.1</td>\n",
       "      <td>81</td>\n",
       "      <td>53</td>\n",
       "      <td>no</td>\n",
       "      <td>8.4</td>\n",
       "      <td>100.0</td>\n",
       "      <td>16.5</td>\n",
       "    </tr>\n",
       "    <tr>\n",
       "      <th>225</th>\n",
       "      <td>1007.9</td>\n",
       "      <td>29.6</td>\n",
       "      <td>28.0</td>\n",
       "      <td>26.4</td>\n",
       "      <td>25.6</td>\n",
       "      <td>87</td>\n",
       "      <td>84</td>\n",
       "      <td>yes</td>\n",
       "      <td>0.1</td>\n",
       "      <td>230.0</td>\n",
       "      <td>22.9</td>\n",
       "    </tr>\n",
       "    <tr>\n",
       "      <th>231</th>\n",
       "      <td>1007.7</td>\n",
       "      <td>32.8</td>\n",
       "      <td>30.1</td>\n",
       "      <td>28.1</td>\n",
       "      <td>25.7</td>\n",
       "      <td>77</td>\n",
       "      <td>59</td>\n",
       "      <td>no</td>\n",
       "      <td>10.4</td>\n",
       "      <td>230.0</td>\n",
       "      <td>16.6</td>\n",
       "    </tr>\n",
       "    <tr>\n",
       "      <th>160</th>\n",
       "      <td>1005.7</td>\n",
       "      <td>31.7</td>\n",
       "      <td>28.2</td>\n",
       "      <td>26.6</td>\n",
       "      <td>25.7</td>\n",
       "      <td>86</td>\n",
       "      <td>79</td>\n",
       "      <td>yes</td>\n",
       "      <td>6.5</td>\n",
       "      <td>NaN</td>\n",
       "      <td>NaN</td>\n",
       "    </tr>\n",
       "    <tr>\n",
       "      <th>251</th>\n",
       "      <td>1009.4</td>\n",
       "      <td>30.7</td>\n",
       "      <td>27.9</td>\n",
       "      <td>26.4</td>\n",
       "      <td>23.1</td>\n",
       "      <td>75</td>\n",
       "      <td>60</td>\n",
       "      <td>no</td>\n",
       "      <td>8.3</td>\n",
       "      <td>60.0</td>\n",
       "      <td>29.0</td>\n",
       "    </tr>\n",
       "  </tbody>\n",
       "</table>\n",
       "</div>"
      ],
      "text/plain": [
       "     pressure  maxtemp  temparature  mintemp  dewpoint  humidity  cloud  \\\n",
       "198    1008.5     33.2         30.6     29.0      26.2        78     69   \n",
       "174    1008.4     34.1         30.4     28.4      24.7        72     20   \n",
       "150    1008.8     32.1         29.8     28.0      26.0        80     73   \n",
       "26     1022.7     15.3         13.0      9.8      11.6        92     95   \n",
       "284    1018.0     22.1         20.5     18.5      16.6        78     88   \n",
       "303    1017.8     29.6         26.7     25.3      23.1        81     53   \n",
       "225    1007.9     29.6         28.0     26.4      25.6        87     84   \n",
       "231    1007.7     32.8         30.1     28.1      25.7        77     59   \n",
       "160    1005.7     31.7         28.2     26.6      25.7        86     79   \n",
       "251    1009.4     30.7         27.9     26.4      23.1        75     60   \n",
       "\n",
       "    rainfall  sunshine  winddirection  windspeed  \n",
       "198       no       9.2          230.0       23.7  \n",
       "174       no      11.4          210.0        9.6  \n",
       "150      yes       9.8          220.0       22.8  \n",
       "26       yes       0.2           20.0       29.6  \n",
       "284      yes       0.0           20.0       38.3  \n",
       "303       no       8.4          100.0       16.5  \n",
       "225      yes       0.1          230.0       22.9  \n",
       "231       no      10.4          230.0       16.6  \n",
       "160      yes       6.5            NaN        NaN  \n",
       "251       no       8.3           60.0       29.0  "
      ]
     },
     "execution_count": 122,
     "metadata": {},
     "output_type": "execute_result"
    }
   ],
   "source": [
    "# dropping the unwanted features\n",
    "data = data.drop(\"day\", axis=1)\n",
    "data.sample(10)"
   ]
  },
  {
   "cell_type": "code",
   "execution_count": 123,
   "id": "a11f6228",
   "metadata": {},
   "outputs": [
    {
     "data": {
      "text/plain": [
       "pressure         0\n",
       "maxtemp          0\n",
       "temparature      0\n",
       "mintemp          0\n",
       "dewpoint         0\n",
       "humidity         0\n",
       "cloud            0\n",
       "rainfall         0\n",
       "sunshine         0\n",
       "winddirection    1\n",
       "windspeed        1\n",
       "dtype: int64"
      ]
     },
     "execution_count": 123,
     "metadata": {},
     "output_type": "execute_result"
    }
   ],
   "source": [
    "data.isnull().sum()"
   ]
  },
  {
   "cell_type": "code",
   "execution_count": 124,
   "id": "20e00fb2",
   "metadata": {},
   "outputs": [
    {
     "data": {
      "text/plain": [
       "array([ 80.,  50.,  40.,  20.,  30.,  60.,  70.,  10., 200., 220., 120.,\n",
       "       190., 210., 300., 240., 180., 230.,  90., 170., 150., 100., 130.,\n",
       "        nan, 160., 270., 280., 250., 260., 290., 350., 110., 140.])"
      ]
     },
     "execution_count": 124,
     "metadata": {},
     "output_type": "execute_result"
    }
   ],
   "source": [
    "data[\"winddirection\"].unique()"
   ]
  },
  {
   "cell_type": "code",
   "execution_count": 125,
   "id": "f09675be",
   "metadata": {},
   "outputs": [
    {
     "data": {
      "text/plain": [
       "np.float64(70.0)"
      ]
     },
     "execution_count": 125,
     "metadata": {},
     "output_type": "execute_result"
    }
   ],
   "source": [
    "data[\"winddirection\"].median()"
   ]
  },
  {
   "cell_type": "code",
   "execution_count": 126,
   "id": "24ccddc7",
   "metadata": {},
   "outputs": [
    {
     "data": {
      "text/plain": [
       "0    20.0\n",
       "Name: winddirection, dtype: float64"
      ]
     },
     "execution_count": 126,
     "metadata": {},
     "output_type": "execute_result"
    }
   ],
   "source": [
    "data[\"winddirection\"].mode()"
   ]
  },
  {
   "cell_type": "code",
   "execution_count": 127,
   "id": "8a4082e2",
   "metadata": {},
   "outputs": [
    {
     "data": {
      "text/plain": [
       "np.float64(20.5)"
      ]
     },
     "execution_count": 127,
     "metadata": {},
     "output_type": "execute_result"
    }
   ],
   "source": [
    "data[\"windspeed\"].median()"
   ]
  },
  {
   "cell_type": "code",
   "execution_count": 128,
   "id": "ab2ae561",
   "metadata": {},
   "outputs": [
    {
     "data": {
      "text/plain": [
       "np.float64(21.53698630136986)"
      ]
     },
     "execution_count": 128,
     "metadata": {},
     "output_type": "execute_result"
    }
   ],
   "source": [
    "data[\"windspeed\"].mean()"
   ]
  },
  {
   "cell_type": "code",
   "execution_count": 129,
   "id": "3a665617",
   "metadata": {},
   "outputs": [
    {
     "data": {
      "text/plain": [
       "0    14.5\n",
       "Name: windspeed, dtype: float64"
      ]
     },
     "execution_count": 129,
     "metadata": {},
     "output_type": "execute_result"
    }
   ],
   "source": [
    "data[\"windspeed\"].mode()"
   ]
  },
  {
   "cell_type": "code",
   "execution_count": 130,
   "id": "b5fa4043",
   "metadata": {},
   "outputs": [],
   "source": [
    "# filling the missing values\n",
    "data[\"winddirection\"] = data[\"winddirection\"].fillna(data[\"winddirection\"].mode()[0])\n",
    "data[\"windspeed\"] = data[\"windspeed\"].fillna(data[\"windspeed\"].median())"
   ]
  },
  {
   "cell_type": "code",
   "execution_count": 131,
   "id": "d1c648d2",
   "metadata": {},
   "outputs": [
    {
     "data": {
      "text/plain": [
       "pressure         0\n",
       "maxtemp          0\n",
       "temparature      0\n",
       "mintemp          0\n",
       "dewpoint         0\n",
       "humidity         0\n",
       "cloud            0\n",
       "rainfall         0\n",
       "sunshine         0\n",
       "winddirection    0\n",
       "windspeed        0\n",
       "dtype: int64"
      ]
     },
     "execution_count": 131,
     "metadata": {},
     "output_type": "execute_result"
    }
   ],
   "source": [
    "data.isnull().sum()"
   ]
  },
  {
   "cell_type": "code",
   "execution_count": 132,
   "id": "48561cc3",
   "metadata": {},
   "outputs": [
    {
     "data": {
      "text/plain": [
       "array([ 80.,  50.,  40.,  20.,  30.,  60.,  70.,  10., 200., 220., 120.,\n",
       "       190., 210., 300., 240., 180., 230.,  90., 170., 150., 100., 130.,\n",
       "       160., 270., 280., 250., 260., 290., 350., 110., 140.])"
      ]
     },
     "execution_count": 132,
     "metadata": {},
     "output_type": "execute_result"
    }
   ],
   "source": [
    "data[\"winddirection\"].unique()"
   ]
  },
  {
   "cell_type": "code",
   "execution_count": 133,
   "id": "0b21bb3e",
   "metadata": {},
   "outputs": [
    {
     "data": {
      "text/plain": [
       "rainfall\n",
       "yes    249\n",
       "no     117\n",
       "Name: count, dtype: int64"
      ]
     },
     "execution_count": 133,
     "metadata": {},
     "output_type": "execute_result"
    }
   ],
   "source": [
    "data[\"rainfall\"].value_counts()"
   ]
  },
  {
   "cell_type": "code",
   "execution_count": 134,
   "id": "cdf2b403",
   "metadata": {},
   "outputs": [
    {
     "name": "stderr",
     "output_type": "stream",
     "text": [
      "/tmp/ipykernel_11964/1650937539.py:2: FutureWarning: Downcasting behavior in `replace` is deprecated and will be removed in a future version. To retain the old behavior, explicitly call `result.infer_objects(copy=False)`. To opt-in to the future behavior, set `pd.set_option('future.no_silent_downcasting', True)`\n",
      "  data[\"rainfall\"] = data[\"rainfall\"].replace(\n"
     ]
    }
   ],
   "source": [
    "# encoding the rainfall feature into numerical: yes-->1, no-->0\n",
    "data[\"rainfall\"] = data[\"rainfall\"].replace(\n",
    "    {\"yes\": 1, \"no\": 0}\n",
    ")"
   ]
  },
  {
   "cell_type": "code",
   "execution_count": 135,
   "id": "acd0a54e",
   "metadata": {},
   "outputs": [
    {
     "data": {
      "text/plain": [
       "rainfall\n",
       "1    249\n",
       "0    117\n",
       "Name: count, dtype: int64"
      ]
     },
     "execution_count": 135,
     "metadata": {},
     "output_type": "execute_result"
    }
   ],
   "source": [
    "data[\"rainfall\"].value_counts()"
   ]
  },
  {
   "cell_type": "code",
   "execution_count": 144,
   "id": "41375235",
   "metadata": {},
   "outputs": [],
   "source": [
    "sns.set_theme(\n",
    "    style=\"whitegrid\",\n",
    "    context=\"paper\",\n",
    "    palette=\"deep\",\n",
    "    font=\"sans-serif\",\n",
    "    font_scale=1,\n",
    "    rc=None\n",
    ")"
   ]
  },
  {
   "cell_type": "code",
   "execution_count": 137,
   "id": "bb90823f",
   "metadata": {},
   "outputs": [
    {
     "data": {
      "text/html": [
       "<div>\n",
       "<style scoped>\n",
       "    .dataframe tbody tr th:only-of-type {\n",
       "        vertical-align: middle;\n",
       "    }\n",
       "\n",
       "    .dataframe tbody tr th {\n",
       "        vertical-align: top;\n",
       "    }\n",
       "\n",
       "    .dataframe thead th {\n",
       "        text-align: right;\n",
       "    }\n",
       "</style>\n",
       "<table border=\"1\" class=\"dataframe\">\n",
       "  <thead>\n",
       "    <tr style=\"text-align: right;\">\n",
       "      <th></th>\n",
       "      <th>pressure</th>\n",
       "      <th>maxtemp</th>\n",
       "      <th>temparature</th>\n",
       "      <th>mintemp</th>\n",
       "      <th>dewpoint</th>\n",
       "      <th>humidity</th>\n",
       "      <th>cloud</th>\n",
       "      <th>rainfall</th>\n",
       "      <th>sunshine</th>\n",
       "      <th>winddirection</th>\n",
       "      <th>windspeed</th>\n",
       "    </tr>\n",
       "  </thead>\n",
       "  <tbody>\n",
       "    <tr>\n",
       "      <th>count</th>\n",
       "      <td>366.000000</td>\n",
       "      <td>366.000000</td>\n",
       "      <td>366.000000</td>\n",
       "      <td>366.000000</td>\n",
       "      <td>366.000000</td>\n",
       "      <td>366.000000</td>\n",
       "      <td>366.000000</td>\n",
       "      <td>366.000000</td>\n",
       "      <td>366.000000</td>\n",
       "      <td>366.000000</td>\n",
       "      <td>366.000000</td>\n",
       "    </tr>\n",
       "    <tr>\n",
       "      <th>mean</th>\n",
       "      <td>1013.742623</td>\n",
       "      <td>26.191257</td>\n",
       "      <td>23.747268</td>\n",
       "      <td>21.894536</td>\n",
       "      <td>19.989071</td>\n",
       "      <td>80.177596</td>\n",
       "      <td>71.128415</td>\n",
       "      <td>0.680328</td>\n",
       "      <td>4.419399</td>\n",
       "      <td>101.284153</td>\n",
       "      <td>21.534153</td>\n",
       "    </tr>\n",
       "    <tr>\n",
       "      <th>std</th>\n",
       "      <td>6.414776</td>\n",
       "      <td>5.978343</td>\n",
       "      <td>5.632813</td>\n",
       "      <td>5.594153</td>\n",
       "      <td>5.997021</td>\n",
       "      <td>10.062470</td>\n",
       "      <td>21.798012</td>\n",
       "      <td>0.466988</td>\n",
       "      <td>3.934398</td>\n",
       "      <td>81.722827</td>\n",
       "      <td>10.056054</td>\n",
       "    </tr>\n",
       "    <tr>\n",
       "      <th>min</th>\n",
       "      <td>998.500000</td>\n",
       "      <td>7.100000</td>\n",
       "      <td>4.900000</td>\n",
       "      <td>3.100000</td>\n",
       "      <td>-0.400000</td>\n",
       "      <td>36.000000</td>\n",
       "      <td>0.000000</td>\n",
       "      <td>0.000000</td>\n",
       "      <td>0.000000</td>\n",
       "      <td>10.000000</td>\n",
       "      <td>4.400000</td>\n",
       "    </tr>\n",
       "    <tr>\n",
       "      <th>25%</th>\n",
       "      <td>1008.500000</td>\n",
       "      <td>21.200000</td>\n",
       "      <td>18.825000</td>\n",
       "      <td>17.125000</td>\n",
       "      <td>16.125000</td>\n",
       "      <td>75.000000</td>\n",
       "      <td>58.000000</td>\n",
       "      <td>0.000000</td>\n",
       "      <td>0.500000</td>\n",
       "      <td>40.000000</td>\n",
       "      <td>13.725000</td>\n",
       "    </tr>\n",
       "    <tr>\n",
       "      <th>50%</th>\n",
       "      <td>1013.000000</td>\n",
       "      <td>27.750000</td>\n",
       "      <td>25.450000</td>\n",
       "      <td>23.700000</td>\n",
       "      <td>21.950000</td>\n",
       "      <td>80.500000</td>\n",
       "      <td>80.000000</td>\n",
       "      <td>1.000000</td>\n",
       "      <td>3.500000</td>\n",
       "      <td>70.000000</td>\n",
       "      <td>20.500000</td>\n",
       "    </tr>\n",
       "    <tr>\n",
       "      <th>75%</th>\n",
       "      <td>1018.100000</td>\n",
       "      <td>31.200000</td>\n",
       "      <td>28.600000</td>\n",
       "      <td>26.575000</td>\n",
       "      <td>25.000000</td>\n",
       "      <td>87.000000</td>\n",
       "      <td>88.000000</td>\n",
       "      <td>1.000000</td>\n",
       "      <td>8.200000</td>\n",
       "      <td>190.000000</td>\n",
       "      <td>27.825000</td>\n",
       "    </tr>\n",
       "    <tr>\n",
       "      <th>max</th>\n",
       "      <td>1034.600000</td>\n",
       "      <td>36.300000</td>\n",
       "      <td>32.400000</td>\n",
       "      <td>30.000000</td>\n",
       "      <td>26.700000</td>\n",
       "      <td>98.000000</td>\n",
       "      <td>100.000000</td>\n",
       "      <td>1.000000</td>\n",
       "      <td>12.100000</td>\n",
       "      <td>350.000000</td>\n",
       "      <td>59.500000</td>\n",
       "    </tr>\n",
       "  </tbody>\n",
       "</table>\n",
       "</div>"
      ],
      "text/plain": [
       "          pressure     maxtemp  temparature     mintemp    dewpoint  \\\n",
       "count   366.000000  366.000000   366.000000  366.000000  366.000000   \n",
       "mean   1013.742623   26.191257    23.747268   21.894536   19.989071   \n",
       "std       6.414776    5.978343     5.632813    5.594153    5.997021   \n",
       "min     998.500000    7.100000     4.900000    3.100000   -0.400000   \n",
       "25%    1008.500000   21.200000    18.825000   17.125000   16.125000   \n",
       "50%    1013.000000   27.750000    25.450000   23.700000   21.950000   \n",
       "75%    1018.100000   31.200000    28.600000   26.575000   25.000000   \n",
       "max    1034.600000   36.300000    32.400000   30.000000   26.700000   \n",
       "\n",
       "         humidity       cloud    rainfall    sunshine  winddirection  \\\n",
       "count  366.000000  366.000000  366.000000  366.000000     366.000000   \n",
       "mean    80.177596   71.128415    0.680328    4.419399     101.284153   \n",
       "std     10.062470   21.798012    0.466988    3.934398      81.722827   \n",
       "min     36.000000    0.000000    0.000000    0.000000      10.000000   \n",
       "25%     75.000000   58.000000    0.000000    0.500000      40.000000   \n",
       "50%     80.500000   80.000000    1.000000    3.500000      70.000000   \n",
       "75%     87.000000   88.000000    1.000000    8.200000     190.000000   \n",
       "max     98.000000  100.000000    1.000000   12.100000     350.000000   \n",
       "\n",
       "        windspeed  \n",
       "count  366.000000  \n",
       "mean    21.534153  \n",
       "std     10.056054  \n",
       "min      4.400000  \n",
       "25%     13.725000  \n",
       "50%     20.500000  \n",
       "75%     27.825000  \n",
       "max     59.500000  "
      ]
     },
     "execution_count": 137,
     "metadata": {},
     "output_type": "execute_result"
    }
   ],
   "source": [
    "data.describe()"
   ]
  },
  {
   "cell_type": "code",
   "execution_count": 138,
   "id": "86f4f564",
   "metadata": {},
   "outputs": [
    {
     "data": {
      "text/html": [
       "<div>\n",
       "<style scoped>\n",
       "    .dataframe tbody tr th:only-of-type {\n",
       "        vertical-align: middle;\n",
       "    }\n",
       "\n",
       "    .dataframe tbody tr th {\n",
       "        vertical-align: top;\n",
       "    }\n",
       "\n",
       "    .dataframe thead th {\n",
       "        text-align: right;\n",
       "    }\n",
       "</style>\n",
       "<table border=\"1\" class=\"dataframe\">\n",
       "  <thead>\n",
       "    <tr style=\"text-align: right;\">\n",
       "      <th></th>\n",
       "      <th>pressure</th>\n",
       "      <th>maxtemp</th>\n",
       "      <th>temparature</th>\n",
       "      <th>mintemp</th>\n",
       "      <th>dewpoint</th>\n",
       "      <th>humidity</th>\n",
       "      <th>cloud</th>\n",
       "      <th>rainfall</th>\n",
       "      <th>sunshine</th>\n",
       "      <th>winddirection</th>\n",
       "      <th>windspeed</th>\n",
       "    </tr>\n",
       "  </thead>\n",
       "  <tbody>\n",
       "    <tr>\n",
       "      <th>pressure</th>\n",
       "      <td>1.000000</td>\n",
       "      <td>-0.829088</td>\n",
       "      <td>-0.851780</td>\n",
       "      <td>-0.839851</td>\n",
       "      <td>-0.860232</td>\n",
       "      <td>-0.274907</td>\n",
       "      <td>0.005621</td>\n",
       "      <td>-0.089275</td>\n",
       "      <td>-0.198171</td>\n",
       "      <td>-0.656828</td>\n",
       "      <td>0.373587</td>\n",
       "    </tr>\n",
       "    <tr>\n",
       "      <th>maxtemp</th>\n",
       "      <td>-0.829088</td>\n",
       "      <td>1.000000</td>\n",
       "      <td>0.986193</td>\n",
       "      <td>0.961534</td>\n",
       "      <td>0.899829</td>\n",
       "      <td>0.021882</td>\n",
       "      <td>-0.289765</td>\n",
       "      <td>-0.101003</td>\n",
       "      <td>0.507416</td>\n",
       "      <td>0.625447</td>\n",
       "      <td>-0.442095</td>\n",
       "    </tr>\n",
       "    <tr>\n",
       "      <th>temparature</th>\n",
       "      <td>-0.851780</td>\n",
       "      <td>0.986193</td>\n",
       "      <td>1.000000</td>\n",
       "      <td>0.990187</td>\n",
       "      <td>0.936866</td>\n",
       "      <td>0.092030</td>\n",
       "      <td>-0.205895</td>\n",
       "      <td>-0.037360</td>\n",
       "      <td>0.420545</td>\n",
       "      <td>0.645266</td>\n",
       "      <td>-0.393619</td>\n",
       "    </tr>\n",
       "    <tr>\n",
       "      <th>mintemp</th>\n",
       "      <td>-0.839851</td>\n",
       "      <td>0.961534</td>\n",
       "      <td>0.990187</td>\n",
       "      <td>1.000000</td>\n",
       "      <td>0.944515</td>\n",
       "      <td>0.139040</td>\n",
       "      <td>-0.156097</td>\n",
       "      <td>-0.007697</td>\n",
       "      <td>0.368288</td>\n",
       "      <td>0.629738</td>\n",
       "      <td>-0.359013</td>\n",
       "    </tr>\n",
       "    <tr>\n",
       "      <th>dewpoint</th>\n",
       "      <td>-0.860232</td>\n",
       "      <td>0.899829</td>\n",
       "      <td>0.936866</td>\n",
       "      <td>0.944515</td>\n",
       "      <td>1.000000</td>\n",
       "      <td>0.425282</td>\n",
       "      <td>0.044635</td>\n",
       "      <td>0.139916</td>\n",
       "      <td>0.185234</td>\n",
       "      <td>0.623952</td>\n",
       "      <td>-0.378227</td>\n",
       "    </tr>\n",
       "    <tr>\n",
       "      <th>humidity</th>\n",
       "      <td>-0.274907</td>\n",
       "      <td>0.021882</td>\n",
       "      <td>0.092030</td>\n",
       "      <td>0.139040</td>\n",
       "      <td>0.425282</td>\n",
       "      <td>1.000000</td>\n",
       "      <td>0.655493</td>\n",
       "      <td>0.489623</td>\n",
       "      <td>-0.563579</td>\n",
       "      <td>0.099471</td>\n",
       "      <td>-0.076740</td>\n",
       "    </tr>\n",
       "    <tr>\n",
       "      <th>cloud</th>\n",
       "      <td>0.005621</td>\n",
       "      <td>-0.289765</td>\n",
       "      <td>-0.205895</td>\n",
       "      <td>-0.156097</td>\n",
       "      <td>0.044635</td>\n",
       "      <td>0.655493</td>\n",
       "      <td>1.000000</td>\n",
       "      <td>0.625766</td>\n",
       "      <td>-0.848334</td>\n",
       "      <td>-0.077037</td>\n",
       "      <td>0.258248</td>\n",
       "    </tr>\n",
       "    <tr>\n",
       "      <th>rainfall</th>\n",
       "      <td>-0.089275</td>\n",
       "      <td>-0.101003</td>\n",
       "      <td>-0.037360</td>\n",
       "      <td>-0.007697</td>\n",
       "      <td>0.139916</td>\n",
       "      <td>0.489623</td>\n",
       "      <td>0.625766</td>\n",
       "      <td>1.000000</td>\n",
       "      <td>-0.552519</td>\n",
       "      <td>-0.015058</td>\n",
       "      <td>0.154193</td>\n",
       "    </tr>\n",
       "    <tr>\n",
       "      <th>sunshine</th>\n",
       "      <td>-0.198171</td>\n",
       "      <td>0.507416</td>\n",
       "      <td>0.420545</td>\n",
       "      <td>0.368288</td>\n",
       "      <td>0.185234</td>\n",
       "      <td>-0.563579</td>\n",
       "      <td>-0.848334</td>\n",
       "      <td>-0.552519</td>\n",
       "      <td>1.000000</td>\n",
       "      <td>0.251374</td>\n",
       "      <td>-0.298922</td>\n",
       "    </tr>\n",
       "    <tr>\n",
       "      <th>winddirection</th>\n",
       "      <td>-0.656828</td>\n",
       "      <td>0.625447</td>\n",
       "      <td>0.645266</td>\n",
       "      <td>0.629738</td>\n",
       "      <td>0.623952</td>\n",
       "      <td>0.099471</td>\n",
       "      <td>-0.077037</td>\n",
       "      <td>-0.015058</td>\n",
       "      <td>0.251374</td>\n",
       "      <td>1.000000</td>\n",
       "      <td>-0.219379</td>\n",
       "    </tr>\n",
       "    <tr>\n",
       "      <th>windspeed</th>\n",
       "      <td>0.373587</td>\n",
       "      <td>-0.442095</td>\n",
       "      <td>-0.393619</td>\n",
       "      <td>-0.359013</td>\n",
       "      <td>-0.378227</td>\n",
       "      <td>-0.076740</td>\n",
       "      <td>0.258248</td>\n",
       "      <td>0.154193</td>\n",
       "      <td>-0.298922</td>\n",
       "      <td>-0.219379</td>\n",
       "      <td>1.000000</td>\n",
       "    </tr>\n",
       "  </tbody>\n",
       "</table>\n",
       "</div>"
      ],
      "text/plain": [
       "               pressure   maxtemp  temparature   mintemp  dewpoint  humidity  \\\n",
       "pressure       1.000000 -0.829088    -0.851780 -0.839851 -0.860232 -0.274907   \n",
       "maxtemp       -0.829088  1.000000     0.986193  0.961534  0.899829  0.021882   \n",
       "temparature   -0.851780  0.986193     1.000000  0.990187  0.936866  0.092030   \n",
       "mintemp       -0.839851  0.961534     0.990187  1.000000  0.944515  0.139040   \n",
       "dewpoint      -0.860232  0.899829     0.936866  0.944515  1.000000  0.425282   \n",
       "humidity      -0.274907  0.021882     0.092030  0.139040  0.425282  1.000000   \n",
       "cloud          0.005621 -0.289765    -0.205895 -0.156097  0.044635  0.655493   \n",
       "rainfall      -0.089275 -0.101003    -0.037360 -0.007697  0.139916  0.489623   \n",
       "sunshine      -0.198171  0.507416     0.420545  0.368288  0.185234 -0.563579   \n",
       "winddirection -0.656828  0.625447     0.645266  0.629738  0.623952  0.099471   \n",
       "windspeed      0.373587 -0.442095    -0.393619 -0.359013 -0.378227 -0.076740   \n",
       "\n",
       "                  cloud  rainfall  sunshine  winddirection  windspeed  \n",
       "pressure       0.005621 -0.089275 -0.198171      -0.656828   0.373587  \n",
       "maxtemp       -0.289765 -0.101003  0.507416       0.625447  -0.442095  \n",
       "temparature   -0.205895 -0.037360  0.420545       0.645266  -0.393619  \n",
       "mintemp       -0.156097 -0.007697  0.368288       0.629738  -0.359013  \n",
       "dewpoint       0.044635  0.139916  0.185234       0.623952  -0.378227  \n",
       "humidity       0.655493  0.489623 -0.563579       0.099471  -0.076740  \n",
       "cloud          1.000000  0.625766 -0.848334      -0.077037   0.258248  \n",
       "rainfall       0.625766  1.000000 -0.552519      -0.015058   0.154193  \n",
       "sunshine      -0.848334 -0.552519  1.000000       0.251374  -0.298922  \n",
       "winddirection -0.077037 -0.015058  0.251374       1.000000  -0.219379  \n",
       "windspeed      0.258248  0.154193 -0.298922      -0.219379   1.000000  "
      ]
     },
     "execution_count": 138,
     "metadata": {},
     "output_type": "execute_result"
    }
   ],
   "source": [
    "data.corr()"
   ]
  },
  {
   "cell_type": "code",
   "execution_count": 139,
   "id": "eede2340",
   "metadata": {},
   "outputs": [
    {
     "data": {
      "text/plain": [
       "(366, 11)"
      ]
     },
     "execution_count": 139,
     "metadata": {},
     "output_type": "execute_result"
    }
   ],
   "source": [
    "data.shape"
   ]
  },
  {
   "cell_type": "code",
   "execution_count": null,
   "id": "cc5e73bc",
   "metadata": {},
   "outputs": [
    {
     "data": {
      "image/png": "[encoded data removed]",
      "text/plain": [
       "<Figure size 1500x1000 with 8 Axes>"
      ]
     },
     "metadata": {},
     "output_type": "display_data"
    }
   ],
   "source": [
    "# plotting\n",
    "plot_columns = [\"pressure\", \"maxtemp\", \"mintemp\", \"dewpoint\", \"humidity\", \"cloud\", \"sunshine\", \"windspeed\"]\n",
    "\n",
    "plt.figure(figsize=(15, 10))\n",
    "for i, column in enumerate(plot_columns, 1):\n",
    "    plt.subplot(3, 3, i)\n",
    "    sns.histplot(data[column], kde=True)\n",
    "    plt.title(f\"Distribution of {column}\")\n",
    "plt.tight_layout()\n",
    "plt.show()"
   ]
  },
  {
   "cell_type": "code",
   "execution_count": 146,
   "id": "b441cdf6",
   "metadata": {},
   "outputs": [
    {
     "data": {
      "image/png": "[encoded data removed]",
      "text/plain": [
       "<Figure size 600x400 with 1 Axes>"
      ]
     },
     "metadata": {},
     "output_type": "display_data"
    }
   ],
   "source": [
    "# rainfall distribution\n",
    "plt.figure(figsize=(6, 4))\n",
    "sns.countplot(x=\"rainfall\", data=data)\n",
    "plt.title(\"Rainfall Distriution\")\n",
    "plt.show()"
   ]
  },
  {
   "cell_type": "code",
   "execution_count": null,
   "id": "4c902098",
   "metadata": {},
   "outputs": [],
   "source": []
  }
 ],
 "metadata": {
  "kernelspec": {
   "display_name": "std-prog",
   "language": "python",
   "name": "python3"
  },
  "language_info": {
   "codemirror_mode": {
    "name": "ipython",
    "version": 3
   },
   "file_extension": ".py",
   "mimetype": "text/x-python",
   "name": "python",
   "nbconvert_exporter": "python",
   "pygments_lexer": "ipython3",
   "version": "3.13.5"
  }
 },
 "nbformat": 4,
 "nbformat_minor": 5
}
